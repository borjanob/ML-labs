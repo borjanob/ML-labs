{
  "nbformat": 4,
  "nbformat_minor": 0,
  "metadata": {
    "colab": {
      "provenance": []
    },
    "kernelspec": {
      "name": "python3",
      "display_name": "Python 3"
    },
    "language_info": {
      "name": "python"
    }
  },
  "cells": [
    {
      "cell_type": "code",
      "execution_count": 1,
      "metadata": {
        "id": "ErySAwae_gwk"
      },
      "outputs": [],
      "source": [
        "import pandas as pd"
      ]
    },
    {
      "cell_type": "code",
      "source": [
        "!gdown 1F3SEgp1O7mulQBW4qMn-WIx9mdTcy_jx"
      ],
      "metadata": {
        "colab": {
          "base_uri": "https://localhost:8080/"
        },
        "id": "mUjU6lmUCQjQ",
        "outputId": "db19829f-52f8-4753-a526-dec3e1245f58"
      },
      "execution_count": 4,
      "outputs": [
        {
          "output_type": "stream",
          "name": "stdout",
          "text": [
            "Downloading...\n",
            "From: https://drive.google.com/uc?id=1F3SEgp1O7mulQBW4qMn-WIx9mdTcy_jx\n",
            "To: /content/cars.csv\n",
            "100% 145M/145M [00:02<00:00, 60.0MB/s]\n"
          ]
        }
      ]
    },
    {
      "cell_type": "markdown",
      "source": [
        "Read the data"
      ],
      "metadata": {
        "id": "w5BYmtXkTLh0"
      }
    },
    {
      "cell_type": "code",
      "source": [
        "dataset = pd.read_csv('/content/cars.csv')"
      ],
      "metadata": {
        "id": "CBUfkaN4A15I"
      },
      "execution_count": 5,
      "outputs": []
    },
    {
      "cell_type": "code",
      "source": [
        "dataset"
      ],
      "metadata": {
        "colab": {
          "base_uri": "https://localhost:8080/",
          "height": 1000
        },
        "id": "M3mSSt6KA69M",
        "outputId": "b4826170-8750-4c2c-dafc-80d14374b76f"
      },
      "execution_count": 8,
      "outputs": [
        {
          "output_type": "execute_result",
          "data": {
            "text/plain": [
              "       manufacturer            model  year   mileage  \\\n",
              "0             Acura  ILX Hybrid 1.5L  2013   92945.0   \n",
              "1             Acura  ILX Hybrid 1.5L  2013   47645.0   \n",
              "2             Acura  ILX Hybrid 1.5L  2013   53422.0   \n",
              "3             Acura  ILX Hybrid 1.5L  2013  117598.0   \n",
              "4             Acura  ILX Hybrid 1.5L  2013  114865.0   \n",
              "...             ...              ...   ...       ...   \n",
              "762086        Volvo  S60 B5 Momentum  2022   22877.0   \n",
              "762087        Volvo           S60 T5  2012   72900.0   \n",
              "762088        Volvo           S60 T5  2014   92000.0   \n",
              "762089        Volvo  S60 T5 Platinum  2013  132000.0   \n",
              "762090        Volvo   S60 T5 Premier  2015  115592.0   \n",
              "\n",
              "                                                   engine       transmission  \\\n",
              "0       1.5L I-4 i-VTEC variable valve control, engine...          Automatic   \n",
              "1                             1.5L I4 8V MPFI SOHC Hybrid      Automatic CVT   \n",
              "2                             1.5L I4 8V MPFI SOHC Hybrid      Automatic CVT   \n",
              "3                             1.5L I4 8V MPFI SOHC Hybrid      Automatic CVT   \n",
              "4                             1.5L I4 8V MPFI SOHC Hybrid      Automatic CVT   \n",
              "...                                                   ...                ...   \n",
              "762086                         2.0L I4 16V GDI DOHC Turbo  8-Speed Automatic   \n",
              "762087       250.0HP 2.5L 5 Cylinder Engine Gasoline Fuel                A/T   \n",
              "762088                        2.5L I5 20V MPFI DOHC Turbo  6-Speed Automatic   \n",
              "762089                        2.5L I5 20V MPFI DOHC Turbo  6-Speed Automatic   \n",
              "762090                        2.5L I5 20V MPFI DOHC Turbo  6-Speed Automatic   \n",
              "\n",
              "               drivetrain fuel_type    mpg           exterior_color  \\\n",
              "0       Front-wheel Drive  Gasoline  39-38                    Black   \n",
              "1       Front-wheel Drive    Hybrid  39-38                     Gray   \n",
              "2       Front-wheel Drive    Hybrid  39-38    Bellanova White Pearl   \n",
              "3       Front-wheel Drive    Hybrid  39-38  Polished Metal Metallic   \n",
              "4       Front-wheel Drive    Hybrid  39-38                      NaN   \n",
              "...                   ...       ...    ...                      ...   \n",
              "762086    All-wheel Drive  Gasoline  25-33   Bright Silver Metallic   \n",
              "762087  Front-wheel Drive  Gasoline    NaN                      Red   \n",
              "762088  Front-wheel Drive  Gasoline  21-30                Ice White   \n",
              "762089    All-wheel Drive  Gasoline  20-29                Ice White   \n",
              "762090    All-wheel Drive  Gasoline  20-29     Savile Gray Metallic   \n",
              "\n",
              "       interior_color  accidents_or_damage  one_owner  personal_use_only  \\\n",
              "0           Parchment                  0.0        0.0                0.0   \n",
              "1               Ebony                  1.0        1.0                1.0   \n",
              "2               Ebony                  0.0        1.0                1.0   \n",
              "3                 NaN                  0.0        1.0                1.0   \n",
              "4               Ebony                  1.0        0.0                1.0   \n",
              "...               ...                  ...        ...                ...   \n",
              "762086          Blond                  0.0        1.0                0.0   \n",
              "762087          Beige                  NaN        NaN                NaN   \n",
              "762088     Soft Beige                  0.0        0.0                1.0   \n",
              "762089      Off Black                  1.0        0.0                0.0   \n",
              "762090      Off-Black                  1.0        0.0                1.0   \n",
              "\n",
              "                         seller_name  seller_rating  driver_rating  \\\n",
              "0                       Iconic Coach            NaN            4.4   \n",
              "1                         Kars Today            NaN            4.4   \n",
              "2       Weiss Toyota of South County            4.3            4.4   \n",
              "3                   Apple Tree Acura            NaN            4.4   \n",
              "4            Herb Connolly Chevrolet            3.7            4.4   \n",
              "...                              ...            ...            ...   \n",
              "762086            Volvo Cars Danbury            4.2            4.2   \n",
              "762087                           NaN            NaN            4.5   \n",
              "762088              Dapper Car Sales            NaN            4.8   \n",
              "762089        Legend Auto Sales Inc.            4.6            4.7   \n",
              "762090           Plymouth Auto Sales            NaN            4.7   \n",
              "\n",
              "        driver_reviews_num  price_drop    price  \n",
              "0                     12.0       300.0  13988.0  \n",
              "1                     12.0         NaN  17995.0  \n",
              "2                     12.0       500.0  17000.0  \n",
              "3                     12.0       675.0  14958.0  \n",
              "4                     12.0       300.0  14498.0  \n",
              "...                    ...         ...      ...  \n",
              "762086                 2.0       250.0  34798.0  \n",
              "762087               101.0         NaN  12500.0  \n",
              "762088                36.0       300.0  12299.0  \n",
              "762089                62.0      1000.0   8995.0  \n",
              "762090                51.0       501.0  12999.0  \n",
              "\n",
              "[762091 rows x 20 columns]"
            ],
            "text/html": [
              "\n",
              "  <div id=\"df-0507c27a-109a-450b-bd94-8b8f8978e00f\">\n",
              "    <div class=\"colab-df-container\">\n",
              "      <div>\n",
              "<style scoped>\n",
              "    .dataframe tbody tr th:only-of-type {\n",
              "        vertical-align: middle;\n",
              "    }\n",
              "\n",
              "    .dataframe tbody tr th {\n",
              "        vertical-align: top;\n",
              "    }\n",
              "\n",
              "    .dataframe thead th {\n",
              "        text-align: right;\n",
              "    }\n",
              "</style>\n",
              "<table border=\"1\" class=\"dataframe\">\n",
              "  <thead>\n",
              "    <tr style=\"text-align: right;\">\n",
              "      <th></th>\n",
              "      <th>manufacturer</th>\n",
              "      <th>model</th>\n",
              "      <th>year</th>\n",
              "      <th>mileage</th>\n",
              "      <th>engine</th>\n",
              "      <th>transmission</th>\n",
              "      <th>drivetrain</th>\n",
              "      <th>fuel_type</th>\n",
              "      <th>mpg</th>\n",
              "      <th>exterior_color</th>\n",
              "      <th>interior_color</th>\n",
              "      <th>accidents_or_damage</th>\n",
              "      <th>one_owner</th>\n",
              "      <th>personal_use_only</th>\n",
              "      <th>seller_name</th>\n",
              "      <th>seller_rating</th>\n",
              "      <th>driver_rating</th>\n",
              "      <th>driver_reviews_num</th>\n",
              "      <th>price_drop</th>\n",
              "      <th>price</th>\n",
              "    </tr>\n",
              "  </thead>\n",
              "  <tbody>\n",
              "    <tr>\n",
              "      <th>0</th>\n",
              "      <td>Acura</td>\n",
              "      <td>ILX Hybrid 1.5L</td>\n",
              "      <td>2013</td>\n",
              "      <td>92945.0</td>\n",
              "      <td>1.5L I-4 i-VTEC variable valve control, engine...</td>\n",
              "      <td>Automatic</td>\n",
              "      <td>Front-wheel Drive</td>\n",
              "      <td>Gasoline</td>\n",
              "      <td>39-38</td>\n",
              "      <td>Black</td>\n",
              "      <td>Parchment</td>\n",
              "      <td>0.0</td>\n",
              "      <td>0.0</td>\n",
              "      <td>0.0</td>\n",
              "      <td>Iconic Coach</td>\n",
              "      <td>NaN</td>\n",
              "      <td>4.4</td>\n",
              "      <td>12.0</td>\n",
              "      <td>300.0</td>\n",
              "      <td>13988.0</td>\n",
              "    </tr>\n",
              "    <tr>\n",
              "      <th>1</th>\n",
              "      <td>Acura</td>\n",
              "      <td>ILX Hybrid 1.5L</td>\n",
              "      <td>2013</td>\n",
              "      <td>47645.0</td>\n",
              "      <td>1.5L I4 8V MPFI SOHC Hybrid</td>\n",
              "      <td>Automatic CVT</td>\n",
              "      <td>Front-wheel Drive</td>\n",
              "      <td>Hybrid</td>\n",
              "      <td>39-38</td>\n",
              "      <td>Gray</td>\n",
              "      <td>Ebony</td>\n",
              "      <td>1.0</td>\n",
              "      <td>1.0</td>\n",
              "      <td>1.0</td>\n",
              "      <td>Kars Today</td>\n",
              "      <td>NaN</td>\n",
              "      <td>4.4</td>\n",
              "      <td>12.0</td>\n",
              "      <td>NaN</td>\n",
              "      <td>17995.0</td>\n",
              "    </tr>\n",
              "    <tr>\n",
              "      <th>2</th>\n",
              "      <td>Acura</td>\n",
              "      <td>ILX Hybrid 1.5L</td>\n",
              "      <td>2013</td>\n",
              "      <td>53422.0</td>\n",
              "      <td>1.5L I4 8V MPFI SOHC Hybrid</td>\n",
              "      <td>Automatic CVT</td>\n",
              "      <td>Front-wheel Drive</td>\n",
              "      <td>Hybrid</td>\n",
              "      <td>39-38</td>\n",
              "      <td>Bellanova White Pearl</td>\n",
              "      <td>Ebony</td>\n",
              "      <td>0.0</td>\n",
              "      <td>1.0</td>\n",
              "      <td>1.0</td>\n",
              "      <td>Weiss Toyota of South County</td>\n",
              "      <td>4.3</td>\n",
              "      <td>4.4</td>\n",
              "      <td>12.0</td>\n",
              "      <td>500.0</td>\n",
              "      <td>17000.0</td>\n",
              "    </tr>\n",
              "    <tr>\n",
              "      <th>3</th>\n",
              "      <td>Acura</td>\n",
              "      <td>ILX Hybrid 1.5L</td>\n",
              "      <td>2013</td>\n",
              "      <td>117598.0</td>\n",
              "      <td>1.5L I4 8V MPFI SOHC Hybrid</td>\n",
              "      <td>Automatic CVT</td>\n",
              "      <td>Front-wheel Drive</td>\n",
              "      <td>Hybrid</td>\n",
              "      <td>39-38</td>\n",
              "      <td>Polished Metal Metallic</td>\n",
              "      <td>NaN</td>\n",
              "      <td>0.0</td>\n",
              "      <td>1.0</td>\n",
              "      <td>1.0</td>\n",
              "      <td>Apple Tree Acura</td>\n",
              "      <td>NaN</td>\n",
              "      <td>4.4</td>\n",
              "      <td>12.0</td>\n",
              "      <td>675.0</td>\n",
              "      <td>14958.0</td>\n",
              "    </tr>\n",
              "    <tr>\n",
              "      <th>4</th>\n",
              "      <td>Acura</td>\n",
              "      <td>ILX Hybrid 1.5L</td>\n",
              "      <td>2013</td>\n",
              "      <td>114865.0</td>\n",
              "      <td>1.5L I4 8V MPFI SOHC Hybrid</td>\n",
              "      <td>Automatic CVT</td>\n",
              "      <td>Front-wheel Drive</td>\n",
              "      <td>Hybrid</td>\n",
              "      <td>39-38</td>\n",
              "      <td>NaN</td>\n",
              "      <td>Ebony</td>\n",
              "      <td>1.0</td>\n",
              "      <td>0.0</td>\n",
              "      <td>1.0</td>\n",
              "      <td>Herb Connolly Chevrolet</td>\n",
              "      <td>3.7</td>\n",
              "      <td>4.4</td>\n",
              "      <td>12.0</td>\n",
              "      <td>300.0</td>\n",
              "      <td>14498.0</td>\n",
              "    </tr>\n",
              "    <tr>\n",
              "      <th>...</th>\n",
              "      <td>...</td>\n",
              "      <td>...</td>\n",
              "      <td>...</td>\n",
              "      <td>...</td>\n",
              "      <td>...</td>\n",
              "      <td>...</td>\n",
              "      <td>...</td>\n",
              "      <td>...</td>\n",
              "      <td>...</td>\n",
              "      <td>...</td>\n",
              "      <td>...</td>\n",
              "      <td>...</td>\n",
              "      <td>...</td>\n",
              "      <td>...</td>\n",
              "      <td>...</td>\n",
              "      <td>...</td>\n",
              "      <td>...</td>\n",
              "      <td>...</td>\n",
              "      <td>...</td>\n",
              "      <td>...</td>\n",
              "    </tr>\n",
              "    <tr>\n",
              "      <th>762086</th>\n",
              "      <td>Volvo</td>\n",
              "      <td>S60 B5 Momentum</td>\n",
              "      <td>2022</td>\n",
              "      <td>22877.0</td>\n",
              "      <td>2.0L I4 16V GDI DOHC Turbo</td>\n",
              "      <td>8-Speed Automatic</td>\n",
              "      <td>All-wheel Drive</td>\n",
              "      <td>Gasoline</td>\n",
              "      <td>25-33</td>\n",
              "      <td>Bright Silver Metallic</td>\n",
              "      <td>Blond</td>\n",
              "      <td>0.0</td>\n",
              "      <td>1.0</td>\n",
              "      <td>0.0</td>\n",
              "      <td>Volvo Cars Danbury</td>\n",
              "      <td>4.2</td>\n",
              "      <td>4.2</td>\n",
              "      <td>2.0</td>\n",
              "      <td>250.0</td>\n",
              "      <td>34798.0</td>\n",
              "    </tr>\n",
              "    <tr>\n",
              "      <th>762087</th>\n",
              "      <td>Volvo</td>\n",
              "      <td>S60 T5</td>\n",
              "      <td>2012</td>\n",
              "      <td>72900.0</td>\n",
              "      <td>250.0HP 2.5L 5 Cylinder Engine Gasoline Fuel</td>\n",
              "      <td>A/T</td>\n",
              "      <td>Front-wheel Drive</td>\n",
              "      <td>Gasoline</td>\n",
              "      <td>NaN</td>\n",
              "      <td>Red</td>\n",
              "      <td>Beige</td>\n",
              "      <td>NaN</td>\n",
              "      <td>NaN</td>\n",
              "      <td>NaN</td>\n",
              "      <td>NaN</td>\n",
              "      <td>NaN</td>\n",
              "      <td>4.5</td>\n",
              "      <td>101.0</td>\n",
              "      <td>NaN</td>\n",
              "      <td>12500.0</td>\n",
              "    </tr>\n",
              "    <tr>\n",
              "      <th>762088</th>\n",
              "      <td>Volvo</td>\n",
              "      <td>S60 T5</td>\n",
              "      <td>2014</td>\n",
              "      <td>92000.0</td>\n",
              "      <td>2.5L I5 20V MPFI DOHC Turbo</td>\n",
              "      <td>6-Speed Automatic</td>\n",
              "      <td>Front-wheel Drive</td>\n",
              "      <td>Gasoline</td>\n",
              "      <td>21-30</td>\n",
              "      <td>Ice White</td>\n",
              "      <td>Soft Beige</td>\n",
              "      <td>0.0</td>\n",
              "      <td>0.0</td>\n",
              "      <td>1.0</td>\n",
              "      <td>Dapper Car Sales</td>\n",
              "      <td>NaN</td>\n",
              "      <td>4.8</td>\n",
              "      <td>36.0</td>\n",
              "      <td>300.0</td>\n",
              "      <td>12299.0</td>\n",
              "    </tr>\n",
              "    <tr>\n",
              "      <th>762089</th>\n",
              "      <td>Volvo</td>\n",
              "      <td>S60 T5 Platinum</td>\n",
              "      <td>2013</td>\n",
              "      <td>132000.0</td>\n",
              "      <td>2.5L I5 20V MPFI DOHC Turbo</td>\n",
              "      <td>6-Speed Automatic</td>\n",
              "      <td>All-wheel Drive</td>\n",
              "      <td>Gasoline</td>\n",
              "      <td>20-29</td>\n",
              "      <td>Ice White</td>\n",
              "      <td>Off Black</td>\n",
              "      <td>1.0</td>\n",
              "      <td>0.0</td>\n",
              "      <td>0.0</td>\n",
              "      <td>Legend Auto Sales Inc.</td>\n",
              "      <td>4.6</td>\n",
              "      <td>4.7</td>\n",
              "      <td>62.0</td>\n",
              "      <td>1000.0</td>\n",
              "      <td>8995.0</td>\n",
              "    </tr>\n",
              "    <tr>\n",
              "      <th>762090</th>\n",
              "      <td>Volvo</td>\n",
              "      <td>S60 T5 Premier</td>\n",
              "      <td>2015</td>\n",
              "      <td>115592.0</td>\n",
              "      <td>2.5L I5 20V MPFI DOHC Turbo</td>\n",
              "      <td>6-Speed Automatic</td>\n",
              "      <td>All-wheel Drive</td>\n",
              "      <td>Gasoline</td>\n",
              "      <td>20-29</td>\n",
              "      <td>Savile Gray Metallic</td>\n",
              "      <td>Off-Black</td>\n",
              "      <td>1.0</td>\n",
              "      <td>0.0</td>\n",
              "      <td>1.0</td>\n",
              "      <td>Plymouth Auto Sales</td>\n",
              "      <td>NaN</td>\n",
              "      <td>4.7</td>\n",
              "      <td>51.0</td>\n",
              "      <td>501.0</td>\n",
              "      <td>12999.0</td>\n",
              "    </tr>\n",
              "  </tbody>\n",
              "</table>\n",
              "<p>762091 rows × 20 columns</p>\n",
              "</div>\n",
              "      <button class=\"colab-df-convert\" onclick=\"convertToInteractive('df-0507c27a-109a-450b-bd94-8b8f8978e00f')\"\n",
              "              title=\"Convert this dataframe to an interactive table.\"\n",
              "              style=\"display:none;\">\n",
              "        \n",
              "  <svg xmlns=\"http://www.w3.org/2000/svg\" height=\"24px\"viewBox=\"0 0 24 24\"\n",
              "       width=\"24px\">\n",
              "    <path d=\"M0 0h24v24H0V0z\" fill=\"none\"/>\n",
              "    <path d=\"M18.56 5.44l.94 2.06.94-2.06 2.06-.94-2.06-.94-.94-2.06-.94 2.06-2.06.94zm-11 1L8.5 8.5l.94-2.06 2.06-.94-2.06-.94L8.5 2.5l-.94 2.06-2.06.94zm10 10l.94 2.06.94-2.06 2.06-.94-2.06-.94-.94-2.06-.94 2.06-2.06.94z\"/><path d=\"M17.41 7.96l-1.37-1.37c-.4-.4-.92-.59-1.43-.59-.52 0-1.04.2-1.43.59L10.3 9.45l-7.72 7.72c-.78.78-.78 2.05 0 2.83L4 21.41c.39.39.9.59 1.41.59.51 0 1.02-.2 1.41-.59l7.78-7.78 2.81-2.81c.8-.78.8-2.07 0-2.86zM5.41 20L4 18.59l7.72-7.72 1.47 1.35L5.41 20z\"/>\n",
              "  </svg>\n",
              "      </button>\n",
              "      \n",
              "  <style>\n",
              "    .colab-df-container {\n",
              "      display:flex;\n",
              "      flex-wrap:wrap;\n",
              "      gap: 12px;\n",
              "    }\n",
              "\n",
              "    .colab-df-convert {\n",
              "      background-color: #E8F0FE;\n",
              "      border: none;\n",
              "      border-radius: 50%;\n",
              "      cursor: pointer;\n",
              "      display: none;\n",
              "      fill: #1967D2;\n",
              "      height: 32px;\n",
              "      padding: 0 0 0 0;\n",
              "      width: 32px;\n",
              "    }\n",
              "\n",
              "    .colab-df-convert:hover {\n",
              "      background-color: #E2EBFA;\n",
              "      box-shadow: 0px 1px 2px rgba(60, 64, 67, 0.3), 0px 1px 3px 1px rgba(60, 64, 67, 0.15);\n",
              "      fill: #174EA6;\n",
              "    }\n",
              "\n",
              "    [theme=dark] .colab-df-convert {\n",
              "      background-color: #3B4455;\n",
              "      fill: #D2E3FC;\n",
              "    }\n",
              "\n",
              "    [theme=dark] .colab-df-convert:hover {\n",
              "      background-color: #434B5C;\n",
              "      box-shadow: 0px 1px 3px 1px rgba(0, 0, 0, 0.15);\n",
              "      filter: drop-shadow(0px 1px 2px rgba(0, 0, 0, 0.3));\n",
              "      fill: #FFFFFF;\n",
              "    }\n",
              "  </style>\n",
              "\n",
              "      <script>\n",
              "        const buttonEl =\n",
              "          document.querySelector('#df-0507c27a-109a-450b-bd94-8b8f8978e00f button.colab-df-convert');\n",
              "        buttonEl.style.display =\n",
              "          google.colab.kernel.accessAllowed ? 'block' : 'none';\n",
              "\n",
              "        async function convertToInteractive(key) {\n",
              "          const element = document.querySelector('#df-0507c27a-109a-450b-bd94-8b8f8978e00f');\n",
              "          const dataTable =\n",
              "            await google.colab.kernel.invokeFunction('convertToInteractive',\n",
              "                                                     [key], {});\n",
              "          if (!dataTable) return;\n",
              "\n",
              "          const docLinkHtml = 'Like what you see? Visit the ' +\n",
              "            '<a target=\"_blank\" href=https://colab.research.google.com/notebooks/data_table.ipynb>data table notebook</a>'\n",
              "            + ' to learn more about interactive tables.';\n",
              "          element.innerHTML = '';\n",
              "          dataTable['output_type'] = 'display_data';\n",
              "          await google.colab.output.renderOutput(dataTable, element);\n",
              "          const docLink = document.createElement('div');\n",
              "          docLink.innerHTML = docLinkHtml;\n",
              "          element.appendChild(docLink);\n",
              "        }\n",
              "      </script>\n",
              "    </div>\n",
              "  </div>\n",
              "  "
            ]
          },
          "metadata": {},
          "execution_count": 8
        }
      ]
    },
    {
      "cell_type": "code",
      "source": [
        "dataset['manufacturer'].value_counts()"
      ],
      "metadata": {
        "colab": {
          "base_uri": "https://localhost:8080/"
        },
        "id": "ZHExmKEYA8A3",
        "outputId": "93fa3925-478e-4109-bd07-5c3ba5b6f0d0"
      },
      "execution_count": 9,
      "outputs": [
        {
          "output_type": "execute_result",
          "data": {
            "text/plain": [
              "Ford             79526\n",
              "Toyota           59535\n",
              "Chevrolet        56043\n",
              "Nissan           48529\n",
              "Jeep             41665\n",
              "Mercedes-Benz    40824\n",
              "Honda            37612\n",
              "BMW              37570\n",
              "Kia              35063\n",
              "GMC              29563\n",
              "Dodge            25250\n",
              "Subaru           24767\n",
              "Volkswagen       24620\n",
              "Hyundai          22203\n",
              "Lexus            21301\n",
              "RAM              19364\n",
              "Audi             17863\n",
              "Cadillac         17794\n",
              "Mazda            15485\n",
              "Buick            14624\n",
              "Chrysler         12647\n",
              "INFINITI         12289\n",
              "Land Rover       12272\n",
              "Porsche          11461\n",
              "Lincoln          10608\n",
              "Volvo            10029\n",
              "Acura             8489\n",
              "Tesla             5883\n",
              "Mitsubishi        5743\n",
              "Jaguar            3469\n",
              "Name: manufacturer, dtype: int64"
            ]
          },
          "metadata": {},
          "execution_count": 9
        }
      ]
    },
    {
      "cell_type": "code",
      "source": [
        "dataset.isna().sum()"
      ],
      "metadata": {
        "colab": {
          "base_uri": "https://localhost:8080/"
        },
        "id": "opxACQ6-BEDK",
        "outputId": "d63c8ba0-b760-4d62-cef3-7498c3d4269e"
      },
      "execution_count": 10,
      "outputs": [
        {
          "output_type": "execute_result",
          "data": {
            "text/plain": [
              "manufacturer                0\n",
              "model                       0\n",
              "year                        0\n",
              "mileage                   506\n",
              "engine                  15050\n",
              "transmission             9904\n",
              "drivetrain              21562\n",
              "fuel_type               22927\n",
              "mpg                    142071\n",
              "exterior_color           8859\n",
              "interior_color          56975\n",
              "accidents_or_damage     24212\n",
              "one_owner               31483\n",
              "personal_use_only       24852\n",
              "seller_name              8593\n",
              "seller_rating          213973\n",
              "driver_rating           31632\n",
              "driver_reviews_num          0\n",
              "price_drop             351979\n",
              "price                       0\n",
              "dtype: int64"
            ]
          },
          "metadata": {},
          "execution_count": 10
        }
      ]
    },
    {
      "cell_type": "code",
      "source": [
        "import seaborn as sns\n",
        "sns.heatmap(dataset.corr())"
      ],
      "metadata": {
        "colab": {
          "base_uri": "https://localhost:8080/",
          "height": 645
        },
        "id": "L8C2HVxUB3r1",
        "outputId": "da86fabd-7d50-4253-f164-88b277243601"
      },
      "execution_count": 11,
      "outputs": [
        {
          "output_type": "stream",
          "name": "stderr",
          "text": [
            "<ipython-input-11-f73720e0b424>:2: FutureWarning: The default value of numeric_only in DataFrame.corr is deprecated. In a future version, it will default to False. Select only valid columns or specify the value of numeric_only to silence this warning.\n",
            "  sns.heatmap(dataset.corr())\n"
          ]
        },
        {
          "output_type": "execute_result",
          "data": {
            "text/plain": [
              "<Axes: >"
            ]
          },
          "metadata": {},
          "execution_count": 11
        },
        {
          "output_type": "display_data",
          "data": {
            "text/plain": [
              "<Figure size 640x480 with 2 Axes>"
            ],
            "image/png": "[encoded data removed]"
          },
          "metadata": {}
        }
      ]
    },
    {
      "cell_type": "code",
      "source": [
        "import matplotlib.pyplot as plt\n",
        "plt.figure(figsize=[10, 10])\n",
        "plt.plot(dataset.groupby('manufacturer').price.sum(), '-og', linewidth='2', alpha=0.75)\n",
        "plt.xticks(rotation=90)\n",
        "plt.show()"
      ],
      "metadata": {
        "colab": {
          "base_uri": "https://localhost:8080/",
          "height": 937
        },
        "id": "xxa2PrB28S20",
        "outputId": "94a15e06-2c59-4bb4-f3cf-dbaf6b9be5a9"
      },
      "execution_count": 12,
      "outputs": [
        {
          "output_type": "display_data",
          "data": {
            "text/plain": [
              "<Figure size 1000x1000 with 1 Axes>"
            ],
            "image/png": "[encoded data removed]"
          },
          "metadata": {}
        }
      ]
    },
    {
      "cell_type": "code",
      "source": [
        "from sklearn.impute import KNNImputer"
      ],
      "metadata": {
        "id": "3ZmaohWhNAeC"
      },
      "execution_count": 13,
      "outputs": []
    },
    {
      "cell_type": "code",
      "source": [
        "imputer = KNNImputer(n_neighbors=3)"
      ],
      "metadata": {
        "id": "BNoPbefxNAbY"
      },
      "execution_count": 14,
      "outputs": []
    },
    {
      "cell_type": "code",
      "source": [
        "from sklearn.preprocessing import LabelEncoder\n"
      ],
      "metadata": {
        "id": "F98GS0BoDkeN"
      },
      "execution_count": 15,
      "outputs": []
    },
    {
      "cell_type": "markdown",
      "source": [
        "Encode categorical variables\n"
      ],
      "metadata": {
        "id": "2fGx8lJPTTWA"
      }
    },
    {
      "cell_type": "code",
      "source": [
        "for column in dataset.columns:\n",
        "  if dataset[column].dtype == \"object\":\n",
        "    encoder = LabelEncoder()\n",
        "    dataset[column] = encoder.fit_transform(dataset[column])"
      ],
      "metadata": {
        "id": "OI-jBvG0GluY"
      },
      "execution_count": 16,
      "outputs": []
    },
    {
      "cell_type": "code",
      "source": [
        "dataset.head()"
      ],
      "metadata": {
        "colab": {
          "base_uri": "https://localhost:8080/",
          "height": 270
        },
        "id": "R5VRziKjLw2p",
        "outputId": "f740b84d-829c-417f-ad41-450860c297b3"
      },
      "execution_count": 17,
      "outputs": [
        {
          "output_type": "execute_result",
          "data": {
            "text/plain": [
              "   manufacturer  model  year   mileage  engine  transmission  drivetrain  \\\n",
              "0             0   5293  2013   92945.0     106           864          26   \n",
              "1             0   5293  2013   47645.0     126           882          26   \n",
              "2             0   5293  2013   53422.0     126           882          26   \n",
              "3             0   5293  2013  117598.0     126           882          26   \n",
              "4             0   5293  2013  114865.0     126           882          26   \n",
              "\n",
              "   fuel_type  mpg  exterior_color  interior_color  accidents_or_damage  \\\n",
              "0         19  727             739            3615                  0.0   \n",
              "1         22  727            3110            1921                  1.0   \n",
              "2         22  727             689            1921                  0.0   \n",
              "3         22  727            5251            4679                  0.0   \n",
              "4         22  727            7681            1921                  1.0   \n",
              "\n",
              "   one_owner  personal_use_only  seller_name  seller_rating  driver_rating  \\\n",
              "0        0.0                0.0         8393            NaN            4.4   \n",
              "1        1.0                1.0         9267            NaN            4.4   \n",
              "2        1.0                1.0        17713            4.3            4.4   \n",
              "3        1.0                1.0          666            NaN            4.4   \n",
              "4        0.0                1.0         7723            3.7            4.4   \n",
              "\n",
              "   driver_reviews_num  price_drop    price  \n",
              "0                12.0       300.0  13988.0  \n",
              "1                12.0         NaN  17995.0  \n",
              "2                12.0       500.0  17000.0  \n",
              "3                12.0       675.0  14958.0  \n",
              "4                12.0       300.0  14498.0  "
            ],
            "text/html": [
              "\n",
              "  <div id=\"df-646c7cfe-a439-4fe3-81c6-7167980e6258\">\n",
              "    <div class=\"colab-df-container\">\n",
              "      <div>\n",
              "<style scoped>\n",
              "    .dataframe tbody tr th:only-of-type {\n",
              "        vertical-align: middle;\n",
              "    }\n",
              "\n",
              "    .dataframe tbody tr th {\n",
              "        vertical-align: top;\n",
              "    }\n",
              "\n",
              "    .dataframe thead th {\n",
              "        text-align: right;\n",
              "    }\n",
              "</style>\n",
              "<table border=\"1\" class=\"dataframe\">\n",
              "  <thead>\n",
              "    <tr style=\"text-align: right;\">\n",
              "      <th></th>\n",
              "      <th>manufacturer</th>\n",
              "      <th>model</th>\n",
              "      <th>year</th>\n",
              "      <th>mileage</th>\n",
              "      <th>engine</th>\n",
              "      <th>transmission</th>\n",
              "      <th>drivetrain</th>\n",
              "      <th>fuel_type</th>\n",
              "      <th>mpg</th>\n",
              "      <th>exterior_color</th>\n",
              "      <th>interior_color</th>\n",
              "      <th>accidents_or_damage</th>\n",
              "      <th>one_owner</th>\n",
              "      <th>personal_use_only</th>\n",
              "      <th>seller_name</th>\n",
              "      <th>seller_rating</th>\n",
              "      <th>driver_rating</th>\n",
              "      <th>driver_reviews_num</th>\n",
              "      <th>price_drop</th>\n",
              "      <th>price</th>\n",
              "    </tr>\n",
              "  </thead>\n",
              "  <tbody>\n",
              "    <tr>\n",
              "      <th>0</th>\n",
              "      <td>0</td>\n",
              "      <td>5293</td>\n",
              "      <td>2013</td>\n",
              "      <td>92945.0</td>\n",
              "      <td>106</td>\n",
              "      <td>864</td>\n",
              "      <td>26</td>\n",
              "      <td>19</td>\n",
              "      <td>727</td>\n",
              "      <td>739</td>\n",
              "      <td>3615</td>\n",
              "      <td>0.0</td>\n",
              "      <td>0.0</td>\n",
              "      <td>0.0</td>\n",
              "      <td>8393</td>\n",
              "      <td>NaN</td>\n",
              "      <td>4.4</td>\n",
              "      <td>12.0</td>\n",
              "      <td>300.0</td>\n",
              "      <td>13988.0</td>\n",
              "    </tr>\n",
              "    <tr>\n",
              "      <th>1</th>\n",
              "      <td>0</td>\n",
              "      <td>5293</td>\n",
              "      <td>2013</td>\n",
              "      <td>47645.0</td>\n",
              "      <td>126</td>\n",
              "      <td>882</td>\n",
              "      <td>26</td>\n",
              "      <td>22</td>\n",
              "      <td>727</td>\n",
              "      <td>3110</td>\n",
              "      <td>1921</td>\n",
              "      <td>1.0</td>\n",
              "      <td>1.0</td>\n",
              "      <td>1.0</td>\n",
              "      <td>9267</td>\n",
              "      <td>NaN</td>\n",
              "      <td>4.4</td>\n",
              "      <td>12.0</td>\n",
              "      <td>NaN</td>\n",
              "      <td>17995.0</td>\n",
              "    </tr>\n",
              "    <tr>\n",
              "      <th>2</th>\n",
              "      <td>0</td>\n",
              "      <td>5293</td>\n",
              "      <td>2013</td>\n",
              "      <td>53422.0</td>\n",
              "      <td>126</td>\n",
              "      <td>882</td>\n",
              "      <td>26</td>\n",
              "      <td>22</td>\n",
              "      <td>727</td>\n",
              "      <td>689</td>\n",
              "      <td>1921</td>\n",
              "      <td>0.0</td>\n",
              "      <td>1.0</td>\n",
              "      <td>1.0</td>\n",
              "      <td>17713</td>\n",
              "      <td>4.3</td>\n",
              "      <td>4.4</td>\n",
              "      <td>12.0</td>\n",
              "      <td>500.0</td>\n",
              "      <td>17000.0</td>\n",
              "    </tr>\n",
              "    <tr>\n",
              "      <th>3</th>\n",
              "      <td>0</td>\n",
              "      <td>5293</td>\n",
              "      <td>2013</td>\n",
              "      <td>117598.0</td>\n",
              "      <td>126</td>\n",
              "      <td>882</td>\n",
              "      <td>26</td>\n",
              "      <td>22</td>\n",
              "      <td>727</td>\n",
              "      <td>5251</td>\n",
              "      <td>4679</td>\n",
              "      <td>0.0</td>\n",
              "      <td>1.0</td>\n",
              "      <td>1.0</td>\n",
              "      <td>666</td>\n",
              "      <td>NaN</td>\n",
              "      <td>4.4</td>\n",
              "      <td>12.0</td>\n",
              "      <td>675.0</td>\n",
              "      <td>14958.0</td>\n",
              "    </tr>\n",
              "    <tr>\n",
              "      <th>4</th>\n",
              "      <td>0</td>\n",
              "      <td>5293</td>\n",
              "      <td>2013</td>\n",
              "      <td>114865.0</td>\n",
              "      <td>126</td>\n",
              "      <td>882</td>\n",
              "      <td>26</td>\n",
              "      <td>22</td>\n",
              "      <td>727</td>\n",
              "      <td>7681</td>\n",
              "      <td>1921</td>\n",
              "      <td>1.0</td>\n",
              "      <td>0.0</td>\n",
              "      <td>1.0</td>\n",
              "      <td>7723</td>\n",
              "      <td>3.7</td>\n",
              "      <td>4.4</td>\n",
              "      <td>12.0</td>\n",
              "      <td>300.0</td>\n",
              "      <td>14498.0</td>\n",
              "    </tr>\n",
              "  </tbody>\n",
              "</table>\n",
              "</div>\n",
              "      <button class=\"colab-df-convert\" onclick=\"convertToInteractive('df-646c7cfe-a439-4fe3-81c6-7167980e6258')\"\n",
              "              title=\"Convert this dataframe to an interactive table.\"\n",
              "              style=\"display:none;\">\n",
              "        \n",
              "  <svg xmlns=\"http://www.w3.org/2000/svg\" height=\"24px\"viewBox=\"0 0 24 24\"\n",
              "       width=\"24px\">\n",
              "    <path d=\"M0 0h24v24H0V0z\" fill=\"none\"/>\n",
              "    <path d=\"M18.56 5.44l.94 2.06.94-2.06 2.06-.94-2.06-.94-.94-2.06-.94 2.06-2.06.94zm-11 1L8.5 8.5l.94-2.06 2.06-.94-2.06-.94L8.5 2.5l-.94 2.06-2.06.94zm10 10l.94 2.06.94-2.06 2.06-.94-2.06-.94-.94-2.06-.94 2.06-2.06.94z\"/><path d=\"M17.41 7.96l-1.37-1.37c-.4-.4-.92-.59-1.43-.59-.52 0-1.04.2-1.43.59L10.3 9.45l-7.72 7.72c-.78.78-.78 2.05 0 2.83L4 21.41c.39.39.9.59 1.41.59.51 0 1.02-.2 1.41-.59l7.78-7.78 2.81-2.81c.8-.78.8-2.07 0-2.86zM5.41 20L4 18.59l7.72-7.72 1.47 1.35L5.41 20z\"/>\n",
              "  </svg>\n",
              "      </button>\n",
              "      \n",
              "  <style>\n",
              "    .colab-df-container {\n",
              "      display:flex;\n",
              "      flex-wrap:wrap;\n",
              "      gap: 12px;\n",
              "    }\n",
              "\n",
              "    .colab-df-convert {\n",
              "      background-color: #E8F0FE;\n",
              "      border: none;\n",
              "      border-radius: 50%;\n",
              "      cursor: pointer;\n",
              "      display: none;\n",
              "      fill: #1967D2;\n",
              "      height: 32px;\n",
              "      padding: 0 0 0 0;\n",
              "      width: 32px;\n",
              "    }\n",
              "\n",
              "    .colab-df-convert:hover {\n",
              "      background-color: #E2EBFA;\n",
              "      box-shadow: 0px 1px 2px rgba(60, 64, 67, 0.3), 0px 1px 3px 1px rgba(60, 64, 67, 0.15);\n",
              "      fill: #174EA6;\n",
              "    }\n",
              "\n",
              "    [theme=dark] .colab-df-convert {\n",
              "      background-color: #3B4455;\n",
              "      fill: #D2E3FC;\n",
              "    }\n",
              "\n",
              "    [theme=dark] .colab-df-convert:hover {\n",
              "      background-color: #434B5C;\n",
              "      box-shadow: 0px 1px 3px 1px rgba(0, 0, 0, 0.15);\n",
              "      filter: drop-shadow(0px 1px 2px rgba(0, 0, 0, 0.3));\n",
              "      fill: #FFFFFF;\n",
              "    }\n",
              "  </style>\n",
              "\n",
              "      <script>\n",
              "        const buttonEl =\n",
              "          document.querySelector('#df-646c7cfe-a439-4fe3-81c6-7167980e6258 button.colab-df-convert');\n",
              "        buttonEl.style.display =\n",
              "          google.colab.kernel.accessAllowed ? 'block' : 'none';\n",
              "\n",
              "        async function convertToInteractive(key) {\n",
              "          const element = document.querySelector('#df-646c7cfe-a439-4fe3-81c6-7167980e6258');\n",
              "          const dataTable =\n",
              "            await google.colab.kernel.invokeFunction('convertToInteractive',\n",
              "                                                     [key], {});\n",
              "          if (!dataTable) return;\n",
              "\n",
              "          const docLinkHtml = 'Like what you see? Visit the ' +\n",
              "            '<a target=\"_blank\" href=https://colab.research.google.com/notebooks/data_table.ipynb>data table notebook</a>'\n",
              "            + ' to learn more about interactive tables.';\n",
              "          element.innerHTML = '';\n",
              "          dataTable['output_type'] = 'display_data';\n",
              "          await google.colab.output.renderOutput(dataTable, element);\n",
              "          const docLink = document.createElement('div');\n",
              "          docLink.innerHTML = docLinkHtml;\n",
              "          element.appendChild(docLink);\n",
              "        }\n",
              "      </script>\n",
              "    </div>\n",
              "  </div>\n",
              "  "
            ]
          },
          "metadata": {},
          "execution_count": 17
        }
      ]
    },
    {
      "cell_type": "markdown",
      "source": [
        "Imputing missing values\n"
      ],
      "metadata": {
        "id": "7hFnAPQETZdD"
      }
    },
    {
      "cell_type": "code",
      "source": [
        "import numpy as np\n",
        "from sklearn.impute import SimpleImputer\n",
        "def impute(strategy,X_train,X_test):\n",
        "  imputer = SimpleImputer(missing_values=np.nan, strategy=strategy)\n",
        "\n",
        "  X_train = imputer.fit_transform(X_train)\n",
        "  X_test = imputer.transform(X_test)\n",
        "  return X_train,X_test"
      ],
      "metadata": {
        "id": "NsOdrHrvLyoG"
      },
      "execution_count": 18,
      "outputs": []
    },
    {
      "cell_type": "code",
      "source": [
        "from sklearn.model_selection import train_test_split"
      ],
      "metadata": {
        "id": "8uWb3gODAFro"
      },
      "execution_count": 19,
      "outputs": []
    },
    {
      "cell_type": "code",
      "source": [
        "from sklearn.linear_model import LinearRegression,Ridge,Lasso\n",
        "from xgboost import XGBRegressor\n",
        "from keras.models import Sequential\n",
        "from keras.layers import Dense, LSTM"
      ],
      "metadata": {
        "id": "c4vob_88AXSc"
      },
      "execution_count": 20,
      "outputs": []
    },
    {
      "cell_type": "markdown",
      "source": [
        "Prediction function\n"
      ],
      "metadata": {
        "id": "VYmRq3cyTeVr"
      }
    },
    {
      "cell_type": "code",
      "source": [
        "def predict_regression(dataset,model,strategy,scaler=None):\n",
        "    X = dataset.drop(['price'],axis=1)\n",
        "    Y = dataset['price']\n",
        "    X_train, X_test, Y_train, Y_test = train_X, test_X, train_y, test_y = train_test_split(X, Y, test_size=0.25)\n",
        "\n",
        "    X_train,X_test = impute(strategy,X_train,X_test)\n",
        "\n",
        "    if scaler:\n",
        "      X_train = scaler.fit_transform(X_train)\n",
        "      X_test = scaler.fit_transform(X_test)\n",
        "\n",
        "    model.fit(X_train, Y_train)\n",
        "    y_pred = model.predict(X_test)\n",
        "\n",
        "    return Y_test,y_pred\n",
        "\n"
      ],
      "metadata": {
        "id": "E2k4su3tbHHu"
      },
      "execution_count": 61,
      "outputs": []
    },
    {
      "cell_type": "markdown",
      "source": [
        "Define different models\n"
      ],
      "metadata": {
        "id": "7Y-STKAZTh88"
      }
    },
    {
      "cell_type": "code",
      "source": [
        "linear_regressor = LinearRegression()\n",
        "lasso = Lasso(alpha=0.1)\n",
        "ridge = Ridge(alpha=0.1)\n",
        "xgb_regressor = XGBRegressor(objective ='reg:squarederror',learning_rate=0.1,max_depth=5,alpha=2,n_estimators=10)\n"
      ],
      "metadata": {
        "id": "bkK9NbDSN7Jh"
      },
      "execution_count": 36,
      "outputs": []
    },
    {
      "cell_type": "code",
      "source": [
        "neural_network = Sequential()\n",
        "\n",
        "neural_network.add(Dense(32, input_dim=19, kernel_initializer='uniform', activation='relu'))\n",
        "\n",
        "#Note: We then add the hidden layers to the model.\n",
        "#Note: The rectified linear activation function or ReLU for short is a piecewise linear function that will output the input directly if it is positive, otherwise, it will output zero.\n",
        "#Note: It has become the default activation function for many types of neural networks because a model that uses it is easier to train and often achieves better performance.\n",
        "neural_network.add(Dense(16, kernel_initializer='uniform', activation='relu'))\n",
        "neural_network.add(Dense(16, kernel_initializer='uniform', activation='relu'))\n",
        "\n",
        "#Note: We finally add the output layer. The value 1 signifies that we expect 1 output. We often use sigmoid activation when classifing.\n",
        "neural_network.add(Dense(1, kernel_initializer='uniform', activation='linear'))"
      ],
      "metadata": {
        "id": "f3T6zN5POqWS"
      },
      "execution_count": 37,
      "outputs": []
    },
    {
      "cell_type": "code",
      "source": [
        "neural_network.compile(loss='binary_crossentropy', optimizer='adam', metrics=['accuracy'])\n"
      ],
      "metadata": {
        "id": "IdymX8YXPzdJ"
      },
      "execution_count": 38,
      "outputs": []
    },
    {
      "cell_type": "code",
      "source": [
        "from sklearn.metrics import mean_squared_error"
      ],
      "metadata": {
        "id": "-7keNS2gmAYV"
      },
      "execution_count": 39,
      "outputs": []
    },
    {
      "cell_type": "markdown",
      "source": [
        "Return mse for each model"
      ],
      "metadata": {
        "id": "7M5pAIt9T0rg"
      }
    },
    {
      "cell_type": "code",
      "source": [
        "def predict_final(models,strategies,scaler):\n",
        "  model_names = ['linear regressor', 'lasso regressor', 'ridge regressor', 'xgb regressor', 'neural network']\n",
        "  errors = {}\n",
        "  for strategy in strategies:\n",
        "    print('Imputation strategy: {}'.format(strategy))\n",
        "    counter = 0\n",
        "    for model in models:\n",
        "      if scaler == None:\n",
        "        y_test,y_predicted = predict_regression(dataset,model,strategy)\n",
        "      else:\n",
        "        y_test,y_predicted = predict_regression(dataset,model,strategy,scaler)\n",
        "\n",
        "      mse = mean_squared_error(y_test, y_predicted)\n",
        "      print(\"Model {} has a mse of {}\".format(model_names[counter],mse))\n",
        "      errors[\"Model {} with imputation strategy {}\".format(model_names[counter],strategy)] = mse\n",
        "      counter+=1\n",
        "  return errors"
      ],
      "metadata": {
        "id": "kEb4Eti-mHXM"
      },
      "execution_count": 63,
      "outputs": []
    },
    {
      "cell_type": "code",
      "source": [
        "models = (linear_regressor,lasso,ridge,xgb_regressor,neural_network)\n",
        "strategies = ('mean','median','most_frequent')\n",
        "errors = predict_final(models,strategies,dataset)"
      ],
      "metadata": {
        "colab": {
          "base_uri": "https://localhost:8080/"
        },
        "id": "AC9QMzObFbai",
        "outputId": "1670d4aa-5552-4b41-f718-ccfb7fa47651"
      },
      "execution_count": 47,
      "outputs": [
        {
          "output_type": "stream",
          "name": "stdout",
          "text": [
            "Imputation strategy: mean\n",
            "Model linear regressor has a mse of 5249232743981.698\n",
            "Model lasso regressor has a mse of 5249025181027.037\n",
            "Model ridge regressor has a mse of 5248612367436.174\n",
            "Model xgb regressor has a mse of 24502276448.756905\n",
            "17862/17862 [==============================] - 38s 2ms/step - loss: -549572.1250 - accuracy: 5.2487e-06\n",
            "5954/5954 [==============================] - 8s 1ms/step\n",
            "Model neural network has a mse of 5250571665316.211\n",
            "Imputation strategy: median\n",
            "Model linear regressor has a mse of 628610907.501379\n",
            "Model lasso regressor has a mse of 5249240219102.713\n",
            "Model ridge regressor has a mse of 5248638540675.607\n",
            "Model xgb regressor has a mse of 24550139135.91675\n",
            "17862/17862 [==============================] - 43s 2ms/step - loss: -549425.6875 - accuracy: 6.9983e-06\n",
            "5954/5954 [==============================] - 9s 1ms/step\n",
            "Model neural network has a mse of 5250541965142.35\n",
            "Imputation strategy: most_frequent\n",
            "Model linear regressor has a mse of 5248858888507.332\n",
            "Model lasso regressor has a mse of 623010526.914879\n",
            "Model ridge regressor has a mse of 5248605270124.742\n",
            "Model xgb regressor has a mse of 10539619670466.35\n",
            "17862/17862 [==============================] - 40s 2ms/step - loss: -576779.5000 - accuracy: 6.9983e-06\n",
            "5954/5954 [==============================] - 9s 1ms/step\n",
            "Model neural network has a mse of 1790057264.5691671\n"
          ]
        }
      ]
    },
    {
      "cell_type": "code",
      "source": [
        "import sys\n",
        "def get_best_mse(errors):\n",
        "  model = ''\n",
        "  best_mse = sys.maxsize\n",
        "  for key, value in errors.items():\n",
        "    if value < best_mse:\n",
        "      model = key\n",
        "      best_mse = value\n",
        "  return model,best_mse"
      ],
      "metadata": {
        "id": "SRzl8u4SGzYc"
      },
      "execution_count": 49,
      "outputs": []
    },
    {
      "cell_type": "markdown",
      "source": [
        "Find best model for regular values\n"
      ],
      "metadata": {
        "id": "a_OeZybKT7b2"
      }
    },
    {
      "cell_type": "code",
      "source": [
        "best_model, best_mse = get_best_mse(errors)\n",
        "print('Best model: {}, with a mse of: {}'.format(best_model,best_mse))"
      ],
      "metadata": {
        "colab": {
          "base_uri": "https://localhost:8080/"
        },
        "id": "EuWx5KECMfZZ",
        "outputId": "dd4e9e76-d7e8-4152-a4e7-f80a6cc2b0a3"
      },
      "execution_count": 52,
      "outputs": [
        {
          "output_type": "stream",
          "name": "stdout",
          "text": [
            "Best model: Model lasso regressor with imputation strategy most_frequent, with a mse of: 623010526.914879\n"
          ]
        }
      ]
    },
    {
      "cell_type": "code",
      "source": [
        "from sklearn.preprocessing import StandardScaler\n",
        "scaler = StandardScaler()"
      ],
      "metadata": {
        "id": "Gf8FVasZNvgy"
      },
      "execution_count": 53,
      "outputs": []
    },
    {
      "cell_type": "markdown",
      "source": [
        "Predict with scaled data\n"
      ],
      "metadata": {
        "id": "QEH3Xy40UDZo"
      }
    },
    {
      "cell_type": "code",
      "source": [
        "errors = predict_final(models,strategies,scaler)"
      ],
      "metadata": {
        "colab": {
          "base_uri": "https://localhost:8080/"
        },
        "id": "i_ZMTpEvQBiX",
        "outputId": "c230c100-d296-4e4c-c707-65586992e4ca"
      },
      "execution_count": 64,
      "outputs": [
        {
          "output_type": "stream",
          "name": "stdout",
          "text": [
            "Imputation strategy: mean\n",
            "Model linear regressor has a mse of 5248700350646.912\n",
            "Model lasso regressor has a mse of 628381157.301362\n",
            "Model ridge regressor has a mse of 10496987683837.865\n",
            "Model xgb regressor has a mse of 5327123530347.435\n",
            "17862/17862 [==============================] - 39s 2ms/step - loss: -575841.4375 - accuracy: 5.2487e-06\n",
            "5954/5954 [==============================] - 9s 1ms/step\n",
            "Model neural network has a mse of 1781766542.9383254\n",
            "Imputation strategy: median\n",
            "Model linear regressor has a mse of 5248837370788.9\n",
            "Model lasso regressor has a mse of 5248952938668.407\n",
            "Model ridge regressor has a mse of 5248708419444.79\n",
            "Model xgb regressor has a mse of 4914081147411.833\n",
            "17862/17862 [==============================] - 53s 3ms/step - loss: -576610.0625 - accuracy: 3.4991e-06\n",
            "5954/5954 [==============================] - 9s 1ms/step\n",
            "Model neural network has a mse of 1577855252.3370216\n",
            "Imputation strategy: most_frequent\n",
            "Model linear regressor has a mse of 980981611.9039057\n",
            "Model lasso regressor has a mse of 5248948234212.681\n",
            "Model ridge regressor has a mse of 829698807.9948661\n",
            "Model xgb regressor has a mse of 12945610511146.422\n",
            "17862/17862 [==============================] - 41s 2ms/step - loss: -576433.1250 - accuracy: 5.2487e-06\n",
            "5954/5954 [==============================] - 9s 2ms/step\n",
            "Model neural network has a mse of 1621983145.838477\n"
          ]
        }
      ]
    },
    {
      "cell_type": "markdown",
      "source": [
        "Find best model for scaled values\n"
      ],
      "metadata": {
        "id": "6fs5AhRMUG73"
      }
    },
    {
      "cell_type": "code",
      "source": [
        "best_model, best_mse = get_best_mse(errors)\n",
        "print('Best model with scaled data: {}, with a mse of: {}'.format(best_model,best_mse))"
      ],
      "metadata": {
        "colab": {
          "base_uri": "https://localhost:8080/"
        },
        "id": "wzn930mIQLYI",
        "outputId": "725299b9-5cb8-4759-9d15-5ce1a2517f1e"
      },
      "execution_count": 65,
      "outputs": [
        {
          "output_type": "stream",
          "name": "stdout",
          "text": [
            "Best model with scaled data: Model lasso regressor with imputation strategy mean, with a mse of: 628381157.301362\n"
          ]
        }
      ]
    }
  ]
}